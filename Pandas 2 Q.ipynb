{
 "cells": [
  {
   "cell_type": "markdown",
   "id": "20abef68-8a6f-46c6-998f-20363d4e533d",
   "metadata": {},
   "source": [
    "1.) List any five functions of the pandas library with execution."
   ]
  },
  {
   "cell_type": "markdown",
   "id": "2d8b8c4c-21b3-401d-a773-acb558617728",
   "metadata": {},
   "source": [
    "Common functions of the pandas library in Python, along with example code that demonstrates their usage:"
   ]
  },
  {
   "cell_type": "markdown",
   "id": "18b325a2-22db-4cac-acd6-2b8a868ac027",
   "metadata": {},
   "source": [
    "1. read_csv(): This function is used to read a CSV file and create a pandas DataFrame object."
   ]
  },
  {
   "cell_type": "code",
   "execution_count": null,
   "id": "9f65450a-e0dd-4dde-a779-df42d2420859",
   "metadata": {},
   "outputs": [],
   "source": [
    "import pandas as pd\n",
    "\n",
    "# Read the CSV file into a pandas DataFrame\n",
    "data = pd.read_csv('data.csv')\n",
    "\n",
    "# Print the first five rows of the DataFrame\n",
    "print(data.head())"
   ]
  },
  {
   "cell_type": "code",
   "execution_count": null,
   "id": "a140f64f-6fc9-42cf-a819-b95cbcce830b",
   "metadata": {},
   "outputs": [],
   "source": []
  },
  {
   "cell_type": "markdown",
   "id": "0df676a4-a0e5-4611-9141-073df0a04f01",
   "metadata": {},
   "source": [
    "2. dropna(): This function is used to remove rows or columns with missing values (NaN)."
   ]
  },
  {
   "cell_type": "code",
   "execution_count": null,
   "id": "427ec58b-5ab9-4cf2-bfcd-c5be94a7a47a",
   "metadata": {},
   "outputs": [],
   "source": [
    "import pandas as pd\n",
    "\n",
    "# Read the CSV file into a pandas DataFrame\n",
    "data = pd.read_csv('data.csv')\n",
    "\n",
    "# Drop rows with missing values\n",
    "data = data.dropna()\n",
    "\n",
    "# Print the first five rows of the DataFrame\n",
    "print(data.head())"
   ]
  },
  {
   "cell_type": "code",
   "execution_count": null,
   "id": "233268ca-cd53-4356-abfb-efdb394e7c49",
   "metadata": {},
   "outputs": [],
   "source": []
  },
  {
   "cell_type": "markdown",
   "id": "cb5010cd-211f-49b2-b464-30dfc84856c5",
   "metadata": {},
   "source": [
    "3. groupby(): This function is used to group data in a DataFrame based on one or more columns."
   ]
  },
  {
   "cell_type": "code",
   "execution_count": null,
   "id": "b6845ba0-a136-411a-a052-52360cb8e66a",
   "metadata": {},
   "outputs": [],
   "source": [
    "import pandas as pd\n",
    "\n",
    "# Read the CSV file into a pandas DataFrame\n",
    "data = pd.read_csv('data.csv')\n",
    "\n",
    "# Group the data by the 'category' column and calculate the mean of the 'price' column\n",
    "grouped_data = data.groupby('category')['price'].mean()\n",
    "\n",
    "# Print the grouped data\n",
    "print(grouped_data)"
   ]
  },
  {
   "cell_type": "code",
   "execution_count": null,
   "id": "bfbdbbef-c146-4062-8650-dd2f0552d21c",
   "metadata": {},
   "outputs": [],
   "source": []
  },
  {
   "cell_type": "markdown",
   "id": "4a67aeed-112b-47b0-9db5-01fc2d9a74eb",
   "metadata": {},
   "source": [
    "4.) describe(): This function is used to generate summary statistics for a DataFrame, such as mean, standard deviation, and quartiles."
   ]
  },
  {
   "cell_type": "code",
   "execution_count": null,
   "id": "3d8629d8-f0a8-4420-bcd6-f8fd15345406",
   "metadata": {},
   "outputs": [],
   "source": [
    "import pandas as pd\n",
    "\n",
    "# Read the CSV file into a pandas DataFrame\n",
    "data = pd.read_csv('data.csv')\n",
    "\n",
    "# Generate summary statistics for the 'price' column\n",
    "stats = data['price'].describe()\n",
    "\n",
    "# Print the summary statistics\n",
    "print(stats)"
   ]
  },
  {
   "cell_type": "code",
   "execution_count": null,
   "id": "d462f905-ddcd-493e-8049-2e5b527d7854",
   "metadata": {},
   "outputs": [],
   "source": []
  },
  {
   "cell_type": "markdown",
   "id": "12b7b0f7-bbd2-42c2-aa14-245082a25227",
   "metadata": {},
   "source": [
    "5.) pivot_table(): This function is used to create a pivot table from a pandas DataFrame."
   ]
  },
  {
   "cell_type": "code",
   "execution_count": null,
   "id": "9c09523a-a1bf-42b0-9d34-78b4ede9be81",
   "metadata": {},
   "outputs": [],
   "source": [
    "import pandas as pd\n",
    "\n",
    "# Read the CSV file into a pandas DataFrame\n",
    "data = pd.read_csv('data.csv')\n",
    "\n",
    "# Create a pivot table with the 'category' column as rows and the 'date' column as columns, and the mean of the 'price' column as values\n",
    "pivot_data = pd.pivot_table(data, index='category', columns='date', values='price', aggfunc='mean')\n",
    "\n",
    "# Print the pivot table\n",
    "print(pivot_data)"
   ]
  },
  {
   "cell_type": "code",
   "execution_count": null,
   "id": "6c156524-51c0-44fd-83f8-bc4727637991",
   "metadata": {},
   "outputs": [],
   "source": []
  },
  {
   "cell_type": "markdown",
   "id": "386e2d3a-cdda-4e78-b958-83e209868740",
   "metadata": {},
   "source": [
    "6.) isna(): This function is used to check for missing values (NaN) in a pandas DataFrame or Series."
   ]
  },
  {
   "cell_type": "code",
   "execution_count": null,
   "id": "0e25b631-d398-4c46-afea-3d5ce27d5334",
   "metadata": {},
   "outputs": [],
   "source": [
    "import pandas as pd\n",
    "\n",
    "# Read the CSV file into a pandas DataFrame\n",
    "data = pd.read_csv('data.csv')\n",
    "\n",
    "# Check for missing values in the DataFrame\n",
    "missing_values = data.isna()\n",
    "\n",
    "# Print the DataFrame of missing values\n",
    "print(missing_values)"
   ]
  },
  {
   "cell_type": "code",
   "execution_count": null,
   "id": "e0434a19-28d4-4816-ae1b-88303a150ef1",
   "metadata": {},
   "outputs": [],
   "source": []
  },
  {
   "cell_type": "markdown",
   "id": "9d4a3b83-27c2-4389-a9fd-96f3c6f981df",
   "metadata": {},
   "source": [
    "2.) Given a Pandas DataFrame df with columns 'A', 'B', and 'C', write a Python function to re-index the\n",
    "DataFrame with a new index that starts from 1 and increments by 2 for each row."
   ]
  },
  {
   "cell_type": "code",
   "execution_count": 1,
   "id": "72cd9972-547a-433a-9856-31edc396775a",
   "metadata": {},
   "outputs": [],
   "source": [
    "import pandas as pd\n",
    "\n",
    "def reindex_df(df):\n",
    "    new_index = pd.RangeIndex(start=1, step=2, stop=len(df)*2+1)\n",
    "    df = df.reset_index(drop=True)\n",
    "    df.index = new_index\n",
    "    return df"
   ]
  },
  {
   "cell_type": "markdown",
   "id": "fab64dce-5455-49ea-b323-75a4abe8a7c4",
   "metadata": {},
   "source": [
    "Here,\n",
    "\n",
    "pd.RangeIndex() creates a new index with the desired start, step, and stop values.\n",
    "\n",
    "reset_index() method resets the index of the DataFrame to the default integer index, and the drop=True argument \n",
    "drops the old index column from the DataFrame.\n",
    "\n",
    "Finally, set_index() method sets the new index to the DataFrame."
   ]
  },
  {
   "cell_type": "code",
   "execution_count": 2,
   "id": "71fa9ac8-60fd-4787-8a85-9ccf39ac3a69",
   "metadata": {},
   "outputs": [
    {
     "name": "stdout",
     "output_type": "stream",
     "text": [
      "    A   B   C\n",
      "1  10  40  70\n",
      "3  20  50  80\n",
      "5  30  60  90\n"
     ]
    }
   ],
   "source": [
    "import pandas as pd\n",
    "\n",
    "df = pd.DataFrame({'A': [10, 20, 30], 'B': [40, 50, 60], 'C': [70, 80, 90]})\n",
    "new_df = reindex_df(df)\n",
    "print(new_df)"
   ]
  },
  {
   "cell_type": "code",
   "execution_count": null,
   "id": "4d8a3bf3-2004-4251-944a-90b174727627",
   "metadata": {},
   "outputs": [],
   "source": []
  },
  {
   "cell_type": "markdown",
   "id": "a42d02c7-2c8f-41db-87d7-5992b532777b",
   "metadata": {},
   "source": [
    "3.) You have a Pandas DataFrame df with a column named 'Values'. Write a Python function that\n",
    "iterates over the DataFrame and calculates the sum of the first three values in the 'Values' column. The\n",
    "function should print the sum to the console."
   ]
  },
  {
   "cell_type": "code",
   "execution_count": 3,
   "id": "7d7ec238-4914-4fba-b12d-12895522e751",
   "metadata": {},
   "outputs": [],
   "source": [
    "import pandas as pd\n",
    "\n",
    "def sum_first_three(df):\n",
    "    values_sum = 0\n",
    "    for i in range(3):\n",
    "        values_sum += df['Values'].iloc[i]\n",
    "    print(\"The sum of the first three values in the 'Values' column is:\", values_sum)"
   ]
  },
  {
   "cell_type": "markdown",
   "id": "70524404-01ae-4504-a443-6252b250a9ba",
   "metadata": {},
   "source": [
    "Here,\n",
    "The sum_first_three() function takes a DataFrame df as input.\n",
    "\n",
    "We initialize a variable values_sum to 0 to keep track of the sum of the first three values in the 'Values' column.\n",
    "\n",
    "We iterate over the first three rows of the 'Values' column using a for loop and the iloc method.\n",
    "For each row, we add the value to values_sum.\n",
    "\n",
    "Finally, we print the sum to the console."
   ]
  },
  {
   "cell_type": "code",
   "execution_count": 4,
   "id": "0b54b912-7fd0-48e9-b77f-128e84b37b2c",
   "metadata": {},
   "outputs": [
    {
     "name": "stdout",
     "output_type": "stream",
     "text": [
      "The sum of the first three values in the 'Values' column is: 60\n"
     ]
    }
   ],
   "source": [
    "import pandas as pd\n",
    "\n",
    "df = pd.DataFrame({'Values': [10, 20, 30, 40, 50]})\n",
    "sum_first_three(df)"
   ]
  },
  {
   "cell_type": "code",
   "execution_count": null,
   "id": "3f11e324-5b0e-4ffe-882c-5d0066a90fae",
   "metadata": {},
   "outputs": [],
   "source": []
  },
  {
   "cell_type": "markdown",
   "id": "58760c25-1724-478b-bec5-6f4285267921",
   "metadata": {},
   "source": [
    "4.) Given a Pandas DataFrame df with a column 'Text', write a Python function to create a new column\n",
    "'Word_Count' that contains the number of words in each row of the 'Text' column."
   ]
  },
  {
   "cell_type": "code",
   "execution_count": 6,
   "id": "df5be29e-5844-4d97-94f9-64630629d2a7",
   "metadata": {},
   "outputs": [],
   "source": [
    "import pandas as pd\n",
    "\n",
    "def count_words(df):\n",
    "    df['Word_Count'] = df['Text'].apply(lambda x: len(str(x).split()))\n",
    "    return df"
   ]
  },
  {
   "cell_type": "markdown",
   "id": "892a3e63-214a-486b-8054-8f08e08065b7",
   "metadata": {},
   "source": [
    "Here,\n",
    "The count_words() function takes a DataFrame df as input.\n",
    "\n",
    "We use the apply() method to apply a lambda function to each row of the 'Text' column.\n",
    "\n",
    "The lambda function takes a string x as input and uses the split() method to split the string into a list of words. The len() function is then used to count the number of words in the list.\n",
    "\n",
    "Finally, we create a new column 'Word_Count' in the DataFrame df and assign it the result of the apply() method."
   ]
  },
  {
   "cell_type": "code",
   "execution_count": 8,
   "id": "9e9ce6e5-6f36-4dcb-92fc-e4c0ad4b6320",
   "metadata": {},
   "outputs": [
    {
     "name": "stdout",
     "output_type": "stream",
     "text": [
      "                     Text  Word_Count\n",
      "0         Whats your Name           3\n",
      "1        My name is Sajal           4\n",
      "2  Nice to Meet You Sajal           5\n"
     ]
    }
   ],
   "source": [
    "import pandas as pd\n",
    "\n",
    "df = pd.DataFrame({'Text': ['Whats your Name', 'My name is Sajal', 'Nice to Meet You Sajal']})\n",
    "new_df = count_words(df)\n",
    "print(new_df)\n"
   ]
  },
  {
   "cell_type": "code",
   "execution_count": null,
   "id": "2cffb91d-3089-4492-866f-b1e7f455d71b",
   "metadata": {},
   "outputs": [],
   "source": []
  },
  {
   "cell_type": "markdown",
   "id": "c3a3de9d-c76c-41be-9fa4-e334234888e8",
   "metadata": {},
   "source": [
    "5.) How are DataFrame.size() and DataFrame.shape() different?"
   ]
  },
  {
   "cell_type": "markdown",
   "id": "6e596be7-e1ff-435e-9be3-649b4d89a1c6",
   "metadata": {},
   "source": [
    "DataFrame.size() method returns the number of elements in the DataFrame, which is equivalent to the product of the number of rows and columns. It returns a single integer value representing the total number of elements in the DataFrame.\n",
    "\n",
    "\n",
    "\n",
    "DataFrame.shape() method returns a tuple representing the dimensions of the DataFrame. The tuple contains two values: the number of rows and the number of columns, respectively. For example, (10, 5) means that the DataFrame has 10 rows and 5 columns."
   ]
  },
  {
   "cell_type": "code",
   "execution_count": 2,
   "id": "445387b3-1775-41be-ad98-7a4cf8125993",
   "metadata": {},
   "outputs": [
    {
     "name": "stdout",
     "output_type": "stream",
     "text": [
      "9\n",
      "(3, 3)\n"
     ]
    }
   ],
   "source": [
    "import pandas as pd\n",
    "\n",
    "# create a sample dataframe\n",
    "df = pd.DataFrame({'A': [1, 2, 3], 'B': [4, 5, 6], 'C': [7, 8, 9]})\n",
    "\n",
    "# get the size of the dataframe\n",
    "print(df.size) \n",
    "\n",
    "# get the shape of the dataframe\n",
    "print(df.shape)  "
   ]
  },
  {
   "cell_type": "code",
   "execution_count": null,
   "id": "f0c22577-69d0-4c20-9e37-87934a26200a",
   "metadata": {},
   "outputs": [],
   "source": []
  },
  {
   "cell_type": "markdown",
   "id": "7b745e18-1554-4204-aa11-c4187ff44daf",
   "metadata": {},
   "source": [
    "6.) Which function of pandas do we use to read an excel file?"
   ]
  },
  {
   "cell_type": "markdown",
   "id": "8db574c5-8ed1-40ef-81f3-edf8928c57a6",
   "metadata": {},
   "source": [
    "The pandas.read_excel() function is a versatile function that can read data from various Excel files, including .xls and .xlsx file formats. It can read data from a specific sheet in the Excel file or read data from multiple sheets."
   ]
  },
  {
   "cell_type": "code",
   "execution_count": null,
   "id": "25c4e518-f14a-41c8-ab45-61d8b6c7f9ee",
   "metadata": {},
   "outputs": [],
   "source": [
    "import pandas as pd\n",
    "\n",
    "# read an Excel file\n",
    "df = pd.read_excel('example.xlsx', sheet_name='Sheet1')\n",
    "\n",
    "# display the data\n",
    "print(df.head())"
   ]
  },
  {
   "cell_type": "code",
   "execution_count": null,
   "id": "b0e16890-b7b0-4abf-84e0-35a369e14940",
   "metadata": {},
   "outputs": [],
   "source": []
  },
  {
   "cell_type": "markdown",
   "id": "1ae2b633-20ab-4778-aa9f-7cb9ddad7793",
   "metadata": {},
   "source": [
    "7.) You have a Pandas DataFrame df that contains a column named 'Email' that contains email\n",
    "addresses in the format 'username@domain.com'. Write a Python function that creates a new column\n",
    "'Username' in df that contains only the username part of each email address."
   ]
  },
  {
   "cell_type": "code",
   "execution_count": 5,
   "id": "fe227e5a-9523-4fc4-b7b3-d4e8c71f6148",
   "metadata": {},
   "outputs": [],
   "source": [
    "def extract_username(df):\n",
    "    # extract the username from the email using the string method 'split'\n",
    "    df['Username'] = df['Email'].str.split('@').str[0]\n",
    "    \n",
    "    # return the updated DataFrame with the new column\n",
    "    return df"
   ]
  },
  {
   "cell_type": "code",
   "execution_count": 7,
   "id": "9855d17a-9a5f-4ab0-bf8d-1b8c3225505f",
   "metadata": {},
   "outputs": [
    {
     "name": "stdout",
     "output_type": "stream",
     "text": [
      "                Email Username\n",
      "0   sajal@example.com    sajal\n",
      "1  poonam@example.com   poonam\n",
      "2   pooja@example.com    pooja\n"
     ]
    }
   ],
   "source": [
    "import pandas as pd\n",
    "\n",
    "# create a sample DataFrame\n",
    "df = pd.DataFrame({'Email': ['sajal@example.com', 'poonam@example.com', 'pooja@example.com']})\n",
    "\n",
    "# call the function to extract the usernames and create a new column 'Username'\n",
    "df = extract_username(df)\n",
    "\n",
    "# display the updated DataFrame\n",
    "print(df.head())"
   ]
  },
  {
   "cell_type": "code",
   "execution_count": null,
   "id": "31fd90e2-868d-4e54-9653-dec83e6b377b",
   "metadata": {},
   "outputs": [],
   "source": []
  },
  {
   "cell_type": "markdown",
   "id": "5f2921e0-a647-493d-82a0-03134adef47a",
   "metadata": {},
   "source": [
    "8.) You have a Pandas DataFrame df with columns 'A', 'B', and 'C'. Write a Python function that selects\n",
    "all rows where the value in column 'A' is greater than 5 and the value in column 'B' is less than 10. The\n",
    "function should return a new DataFrame that contains only the selected rows.\n",
    "\n",
    "For example, if df contains the following values:\n",
    "A B C\n",
    "0 3 5 1\n",
    "1 8 2 7\n",
    "2 6 9 4\n",
    "3 2 3 5\n",
    "4 9 1 2"
   ]
  },
  {
   "cell_type": "code",
   "execution_count": null,
   "id": "07afbae6-b04c-434a-86a6-4e9b3cf1e577",
   "metadata": {},
   "outputs": [],
   "source": []
  },
  {
   "cell_type": "code",
   "execution_count": 8,
   "id": "21a79112-3625-427e-9cd2-92b455a994f4",
   "metadata": {},
   "outputs": [],
   "source": [
    "def select_rows(df):\n",
    "    # select rows where A > 5 and B < 10 using boolean indexing\n",
    "    selected_rows = df[(df['A'] > 5) & (df['B'] < 10)]\n",
    "    \n",
    "    # return the selected rows as a new DataFrame\n",
    "    return selected_rows"
   ]
  },
  {
   "cell_type": "markdown",
   "id": "fddb9d06-1f75-4355-8509-0e2c6ba6406a",
   "metadata": {},
   "source": [
    "In the above function, boolean indexing is used to select the rows where the value in column 'A' is greater than 5 and the value in column 'B' is less than 10. The resulting selected rows are stored in a new DataFrame selected_rows. Finally, the new DataFrame with the selected rows is returned"
   ]
  },
  {
   "cell_type": "code",
   "execution_count": 9,
   "id": "03b35fc9-2452-485d-9832-c7bfdf1e6c5f",
   "metadata": {},
   "outputs": [
    {
     "name": "stdout",
     "output_type": "stream",
     "text": [
      "   A  B  C\n",
      "1  8  2  7\n",
      "2  6  9  4\n",
      "4  9  1  2\n"
     ]
    }
   ],
   "source": [
    "import pandas as pd\n",
    "\n",
    "# create a sample DataFrame\n",
    "df = pd.DataFrame({'A': [3, 8, 6, 2, 9], 'B': [5, 2, 9, 3, 1], 'C': [1, 7, 4, 5, 2]})\n",
    "\n",
    "# call the function to select the rows where A > 5 and B < 10\n",
    "selected_rows = select_rows(df)\n",
    "\n",
    "# display the selected rows\n",
    "print(selected_rows.head())"
   ]
  },
  {
   "cell_type": "code",
   "execution_count": null,
   "id": "187a3e3b-52d7-4f0c-a30b-899d0fbf8488",
   "metadata": {},
   "outputs": [],
   "source": []
  },
  {
   "cell_type": "markdown",
   "id": "a0b2fe7d-aed5-42a3-a207-912ac2057e82",
   "metadata": {},
   "source": [
    "9.) Given a Pandas DataFrame df with a column 'Values', write a Python function to calculate the mean,\n",
    "median, and standard deviation of the values in the 'Values' column."
   ]
  },
  {
   "cell_type": "code",
   "execution_count": 10,
   "id": "116819b1-f424-4206-a413-6b34036a25fd",
   "metadata": {},
   "outputs": [
    {
     "ename": "IndentationError",
     "evalue": "unexpected indent (2444728163.py, line 15)",
     "output_type": "error",
     "traceback": [
      "\u001b[0;36m  Cell \u001b[0;32mIn[12], line 15\u001b[0;36m\u001b[0m\n\u001b[0;31m    print('mode: {:.2f}'.format(mode))\u001b[0m\n\u001b[0m    ^\u001b[0m\n\u001b[0;31mIndentationError\u001b[0m\u001b[0;31m:\u001b[0m unexpected indent\n"
     ]
    }
   ],
   "source": [
    "import pandas as pd\n",
    "import numpy as np\n",
    "\n",
    "def calculate_stats(df):\n",
    "    # calculate the mean, median, and standard deviation of the values in the 'Values' column\n",
    "    mean = np.mean(df['Values'])\n",
    "    median = np.median(df['Values'])\n",
    "    std = np.std(df['Values'])\n",
    "    \n",
    "    # print the calculated statistics\n",
    "    print('Mean: {:.2f}'.format(mean))\n",
    "    print('Median: {:.2f}'.format(median))\n",
    "    print('Standard Deviation: {:.2f}'.format(std))"
   ]
  },
  {
   "cell_type": "markdown",
   "id": "1cc80dd5-2618-4a00-b9c4-d443772910a8",
   "metadata": {},
   "source": [
    "In the above function, the NumPy functions np.mean(), np.median(), and np.std() are used to calculate the mean, median, and standard deviation of the values in the 'Values' column of the DataFrame df. The calculated statistics are then printed to the console with two decimal places using the print() function and the .format() method."
   ]
  },
  {
   "cell_type": "code",
   "execution_count": 13,
   "id": "d31864d0-29d3-4b2a-a069-54f798e419d9",
   "metadata": {},
   "outputs": [
    {
     "name": "stdout",
     "output_type": "stream",
     "text": [
      "Mean: 5.67\n",
      "Median: 6.00\n",
      "Standard Deviation: 2.98\n"
     ]
    }
   ],
   "source": [
    "# create a sample DataFrame\n",
    "df = pd.DataFrame({'Values': [3, 8, 6, 2, 9, 10, 5, 7, 1]})\n",
    "\n",
    "# call the function to calculate the statistics\n",
    "calculate_stats(df)"
   ]
  },
  {
   "cell_type": "code",
   "execution_count": null,
   "id": "a68502ea-fdaf-41e6-8a00-3622320d6524",
   "metadata": {},
   "outputs": [],
   "source": []
  },
  {
   "cell_type": "markdown",
   "id": "86011c1f-5c2b-4e38-8049-1e25025483fc",
   "metadata": {},
   "source": [
    "10.) Given a Pandas DataFrame df with a column 'Sales' and a column 'Date', write a Python function to\n",
    "create a new column 'MovingAverage' that contains the moving average of the sales for the past 7 days\n",
    "for each row in the DataFrame. The moving average should be calculated using a window of size 7 and\n",
    "should include the current day."
   ]
  },
  {
   "cell_type": "code",
   "execution_count": 18,
   "id": "eeb25623-5651-44cd-a859-4f0499f22adc",
   "metadata": {},
   "outputs": [],
   "source": [
    "import pandas as pd\n",
    "\n",
    "def add_moving_average(df):\n",
    "    # calculate the moving average of the sales for the past 7 days using a window of size 7\n",
    "    ma = df['Sales'].rolling(window=7, min_periods=1).mean()\n",
    "    \n",
    "    # add the moving average as a new column in the DataFrame\n",
    "    df['MovingAverage'] = ma\n",
    "    \n",
    "    # return the DataFrame with the new column\n",
    "    return df"
   ]
  },
  {
   "cell_type": "markdown",
   "id": "4b8d9afe-0fcc-4d6f-9115-2f362a4e852e",
   "metadata": {},
   "source": [
    "In the above function, the rolling() function is used to calculate the moving average of the sales for the past 7 days using a window of size 7. The resulting moving average values are stored in a new Pandas Series ma. The ma series is then added to the original DataFrame df as a new column 'MovingAverage'. Finally, the modified DataFrame with the new column is returned."
   ]
  },
  {
   "cell_type": "code",
   "execution_count": 19,
   "id": "02ae63fc-d246-4bff-abbf-be72f5f28b2f",
   "metadata": {},
   "outputs": [
    {
     "name": "stdout",
     "output_type": "stream",
     "text": [
      "        Date  Sales  MovingAverage\n",
      "0 2022-01-01     10          10.00\n",
      "1 2022-01-02     20          15.00\n",
      "2 2022-01-03     30          20.00\n",
      "3 2022-01-04     15          18.75\n",
      "4 2022-01-05     25          20.00\n"
     ]
    }
   ],
   "source": [
    "# create a sample DataFrame\n",
    "dates = pd.date_range(start='2022-01-01', end='2022-01-30')\n",
    "sales = [10, 20, 30, 15, 25, 35, 40, 30, 20, 15, 5, 10, 20, 30, 25, 20, 15, 10, 5, 15, 20, 25, 30, 35, 40, 30, 20, 10, 5, 15]\n",
    "df = pd.DataFrame({'Date': dates, 'Sales': sales})\n",
    "\n",
    "# call the function to add the moving average column\n",
    "df = add_moving_average(df)\n",
    "\n",
    "# display the modified DataFrame\n",
    "print(df.head())\n"
   ]
  },
  {
   "cell_type": "markdown",
   "id": "a81ce445-a583-4035-8201-15604aed121a",
   "metadata": {},
   "source": [
    "In the above example, the add_moving_average() function is called by passing the sample DataFrame df as an argument. The resulting modified DataFrame will contain a new column 'MovingAverage' that contains the moving average of the sales for the past 7 days for each row in the DataFrame."
   ]
  },
  {
   "cell_type": "code",
   "execution_count": null,
   "id": "19ec024e-2b19-4c6b-9bf5-807776c4a96a",
   "metadata": {},
   "outputs": [],
   "source": []
  },
  {
   "cell_type": "markdown",
   "id": "d2aa55f2-e794-4637-9e23-218173479aaf",
   "metadata": {},
   "source": [
    "11.)  You have a Pandas DataFrame df with a column 'Date'. Write a Python function that creates a new\n",
    "column 'Weekday' in the DataFrame. The 'Weekday' column should contain the weekday name (e.g.\n",
    "Monday, Tuesday) corresponding to each date in the 'Date' column.\n",
    "For example, if df contains the following values:\n",
    "\n",
    "Date\n",
    "0 2023-01-01\n",
    "1 2023-01-02\n",
    "2 2023-01-03\n",
    "3 2023-01-04\n",
    "4 2023-01-05\n",
    "Your function should create the following DataFrame:\n",
    "\n",
    "\n",
    "Date Weekday\n",
    "0 2023-01-01 Sunday\n",
    "1 2023-01-02 Monday\n",
    "2 2023-01-03 Tuesday\n",
    "3 2023-01-04 Wednesday\n",
    "4 2023-01-05 Thursday\n",
    "The function should return the modified DataFrame."
   ]
  },
  {
   "cell_type": "code",
   "execution_count": null,
   "id": "021cdea6-8e3e-44d6-a634-b2f1fe968294",
   "metadata": {},
   "outputs": [],
   "source": []
  },
  {
   "cell_type": "markdown",
   "id": "a5a88330-05d7-4672-bfdf-c27c80d2fde7",
   "metadata": {},
   "source": [
    "We can use the dt accessor of the Date column to extract the weekday name for each date in the column. Here's an example function that does that:"
   ]
  },
  {
   "cell_type": "code",
   "execution_count": 14,
   "id": "aa430b6a-6a74-4e8d-8e88-862df39e91b7",
   "metadata": {},
   "outputs": [
    {
     "name": "stdout",
     "output_type": "stream",
     "text": [
      "        Date    Weekday\n",
      "0 2023-01-01     Sunday\n",
      "1 2023-01-02     Monday\n",
      "2 2023-01-03    Tuesday\n",
      "3 2023-01-04  Wednesday\n",
      "4 2023-01-05   Thursday\n"
     ]
    }
   ],
   "source": [
    "import pandas as pd\n",
    "\n",
    "def add_weekday_column(df):\n",
    "    df['Weekday'] = df['Date'].dt.day_name()\n",
    "    return df\n",
    "\n",
    "# create a sample DataFrame\n",
    "df = pd.DataFrame({\n",
    "    'Date': pd.date_range(start='2023-01-01', end='2023-01-05')\n",
    "})\n",
    "\n",
    "# call the function to add the 'Weekday' column\n",
    "df = add_weekday_column(df)\n",
    "\n",
    "# print the modified DataFrame\n",
    "print(df)\n"
   ]
  },
  {
   "cell_type": "code",
   "execution_count": null,
   "id": "efd4b69f-a765-4143-af02-8fb49e29ca35",
   "metadata": {},
   "outputs": [],
   "source": []
  },
  {
   "cell_type": "markdown",
   "id": "d1506dbf-dbf7-477d-a458-cef70db48e1a",
   "metadata": {},
   "source": [
    "12.) Given a Pandas DataFrame df with a column 'Date' that contains timestamps, write a Python\n",
    "function to select all rows where the date is between '2023-01-01' and '2023-01-31'."
   ]
  },
  {
   "cell_type": "code",
   "execution_count": null,
   "id": "e9cdbd2c-e491-49e2-b87d-80270be00b64",
   "metadata": {},
   "outputs": [],
   "source": []
  },
  {
   "cell_type": "code",
   "execution_count": 15,
   "id": "15911240-b968-4680-8377-45d26cd4c9e6",
   "metadata": {},
   "outputs": [],
   "source": [
    "import pandas as pd\n",
    "\n",
    "def select_rows_between_dates(df):\n",
    "    start_date = pd.Timestamp('2023-01-01')\n",
    "    end_date = pd.Timestamp('2023-01-31')\n",
    "    return df[(df['Date'] >= start_date) & (df['Date'] <= end_date)]"
   ]
  },
  {
   "cell_type": "code",
   "execution_count": 16,
   "id": "9fe00371-c9f8-4708-9e38-48bf71dd82bf",
   "metadata": {},
   "outputs": [
    {
     "name": "stdout",
     "output_type": "stream",
     "text": [
      "         Date\n",
      "7  2023-01-01\n",
      "8  2023-01-02\n",
      "9  2023-01-03\n",
      "10 2023-01-04\n",
      "11 2023-01-05\n",
      "12 2023-01-06\n",
      "13 2023-01-07\n",
      "14 2023-01-08\n",
      "15 2023-01-09\n",
      "16 2023-01-10\n",
      "17 2023-01-11\n",
      "18 2023-01-12\n",
      "19 2023-01-13\n",
      "20 2023-01-14\n",
      "21 2023-01-15\n",
      "22 2023-01-16\n",
      "23 2023-01-17\n",
      "24 2023-01-18\n",
      "25 2023-01-19\n",
      "26 2023-01-20\n",
      "27 2023-01-21\n",
      "28 2023-01-22\n",
      "29 2023-01-23\n",
      "30 2023-01-24\n",
      "31 2023-01-25\n",
      "32 2023-01-26\n",
      "33 2023-01-27\n",
      "34 2023-01-28\n",
      "35 2023-01-29\n",
      "36 2023-01-30\n",
      "37 2023-01-31\n"
     ]
    }
   ],
   "source": [
    "# create a sample DataFrame\n",
    "df = pd.DataFrame({\n",
    "    'Date': pd.date_range(start='2022-12-25', end='2023-02-10')\n",
    "})\n",
    "\n",
    "# call the function to select rows between '2023-01-01' and '2023-01-31'\n",
    "selected_df = select_rows_between_dates(df)\n",
    "\n",
    "# print the selected DataFrame\n",
    "print(selected_df)"
   ]
  },
  {
   "cell_type": "code",
   "execution_count": null,
   "id": "404deaf4-859d-4628-937f-013c945847d8",
   "metadata": {},
   "outputs": [],
   "source": []
  },
  {
   "cell_type": "markdown",
   "id": "41167d06-e73e-4632-8099-b2c34095fa46",
   "metadata": {},
   "source": [
    "13.) To use the basic functions of pandas, what is the first and foremost necessary library that needs to\n",
    "be imported?"
   ]
  },
  {
   "cell_type": "code",
   "execution_count": 17,
   "id": "243b8c4c-9157-4d5e-9568-9aa3958baf24",
   "metadata": {},
   "outputs": [],
   "source": [
    "import pandas as pd"
   ]
  },
  {
   "cell_type": "markdown",
   "id": "31744a8d-6d28-4dc3-9ad8-7d39f9321eae",
   "metadata": {},
   "source": [
    "This line of code imports pandas and gives it the alias pd, which is the standard alias used in the pandas community. Once you've imported pandas, you can use its various functions and data structures, such as DataFrames and Series, to manipulate and analyze data."
   ]
  },
  {
   "cell_type": "code",
   "execution_count": null,
   "id": "aabe2c1e-e442-4013-a13d-3113bdb8eff7",
   "metadata": {},
   "outputs": [],
   "source": []
  }
 ],
 "metadata": {
  "kernelspec": {
   "display_name": "Python 3 (ipykernel)",
   "language": "python",
   "name": "python3"
  },
  "language_info": {
   "codemirror_mode": {
    "name": "ipython",
    "version": 3
   },
   "file_extension": ".py",
   "mimetype": "text/x-python",
   "name": "python",
   "nbconvert_exporter": "python",
   "pygments_lexer": "ipython3",
   "version": "3.10.8"
  }
 },
 "nbformat": 4,
 "nbformat_minor": 5
}
